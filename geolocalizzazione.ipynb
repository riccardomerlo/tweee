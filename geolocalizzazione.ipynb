{
  "nbformat": 4,
  "nbformat_minor": 0,
  "metadata": {
    "colab": {
      "name": "geolocalizzazione.ipynb",
      "provenance": [],
      "collapsed_sections": [],
      "authorship_tag": "ABX9TyO0yOQoGlheYC3lPAslHVx6",
      "include_colab_link": true
    },
    "kernelspec": {
      "name": "python3",
      "display_name": "Python 3"
    }
  },
  "cells": [
    {
      "cell_type": "markdown",
      "metadata": {
        "id": "view-in-github",
        "colab_type": "text"
      },
      "source": [
        "<a href=\"https://colab.research.google.com/github/riccardomerlo/tweee/blob/main/geolocalizzazione.ipynb\" target=\"_parent\"><img src=\"https://colab.research.google.com/assets/colab-badge.svg\" alt=\"Open In Colab\"/></a>"
      ]
    },
    {
      "cell_type": "code",
      "metadata": {
        "id": "Vr-HCboghMyz"
      },
      "source": [
        "pip install geocoder"
      ],
      "execution_count": null,
      "outputs": []
    },
    {
      "cell_type": "code",
      "metadata": {
        "id": "UCEyRQAdg9Pm"
      },
      "source": [
        "import geocoder\n",
        "#g = geocoder.arcgis('New York')\n",
        "#g = geocoder.geonames('New York', key =\"dennunziolover\")\n",
        "g = geocoder.komoot('New York')"
      ],
      "execution_count": null,
      "outputs": []
    },
    {
      "cell_type": "code",
      "metadata": {
        "colab": {
          "base_uri": "https://localhost:8080/"
        },
        "id": "g4rTXVVehSq5",
        "outputId": "5f30a658-dabd-484d-bee9-a9ef7d102f04"
      },
      "source": [
        "print(g.json)\n",
        "g\n",
        "# g.address \n",
        "# g.geonames_id\n",
        "# g.description\n",
        "# g.population"
      ],
      "execution_count": null,
      "outputs": [
        {
          "output_type": "stream",
          "text": [
            "{'address': 'New York New York, United States of America', 'bbox': {'northeast': [-73.7001809, 40.9161785], 'southwest': [-74.25909, 40.477399]}, 'city': 'New York', 'confidence': 10, 'country': 'United States of America', 'lat': 40.7127281, 'lng': -74.0060152, 'ok': True, 'osm_id': 175905, 'osm_key': 'place', 'osm_type': 'R', 'osm_value': 'city', 'raw': {'geometry': {'coordinates': [-74.0060152, 40.7127281], 'type': 'Point'}, 'type': 'Feature', 'properties': {'osm_id': 175905, 'osm_type': 'R', 'extent': [-74.25909, 40.9161785, -73.7001809, 40.477399], 'country': 'United States of America', 'osm_key': 'place', 'countrycode': 'US', 'osm_value': 'city', 'name': 'New York', 'state': 'New York', 'type': 'city'}}, 'state': 'New York', 'status': 'OK'}\n"
          ],
          "name": "stdout"
        },
        {
          "output_type": "execute_result",
          "data": {
            "text/plain": [
              "<[OK] Komoot - Geocode [New York New York, United States of America]>"
            ]
          },
          "metadata": {
            "tags": []
          },
          "execution_count": 21
        }
      ]
    }
  ]
}